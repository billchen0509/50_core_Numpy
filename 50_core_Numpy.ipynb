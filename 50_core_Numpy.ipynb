{
 "cells": [
  {
   "cell_type": "markdown",
   "metadata": {},
   "source": [
    "# Numpy\n",
    "\n",
    "- Multidimensional array : NumPy's main data structure is the multidimensional array (numpy.ndarray), which provides efficient storage and manipulation of multidimensional data. In machine learning, data is often represented as multidimensional arrays, so NumPy provides a convenient way to manipulate and process this data.\n",
    "\n",
    "- Mathematical functions : NumPy provides a wealth of mathematical functions, covering basic mathematical operations, linear algebra, Fourier transform, etc. These functions are essential for the implementation and optimization of machine learning algorithms.\n",
    "\n",
    "- Fast computing : NumPy's underlying implementation uses C language, so its computing speed is very fast. NumPy's efficient computing ability is very helpful when processing large-scale data.\n",
    "\n",
    "- Broadcasting : NumPy’s broadcasting functionality allows arithmetic operations to be performed on arrays of different sizes, making the code more concise, more readable, and reducing memory consumption.\n",
    "\n",
    "- Random number generation : NumPy provides powerful random number generation functions, including random number generators with multiple distributions. This is very useful in simulating data, initializing model parameters, etc.\n",
    "\n",
    "- Integration with other libraries : NumPy is tightly integrated with many other Python libraries (such as SciPy, Pandas, Matplotlib, etc.), making it easy to exchange data between them and jointly build complex data processing and visualization pipelines.\n",
    "\n",
    "- Linear algebra operations : NumPy provides a wealth of linear algebra operations, such as matrix multiplication, inversion, eigenvalue decomposition, etc. This is crucial for many machine learning algorithms, especially deep learning algorithms.\n",
    "\n",
    "- Memory Optimization : NumPy’s data structures are optimized to utilize memory more efficiently, which is crucial especially for large datasets and computationally intensive tasks."
   ]
  },
  {
   "cell_type": "markdown",
   "metadata": {},
   "source": [
    "1. Create an array\n",
    "\n",
    "**np.array()** Convert a Python list to a NumPy array "
   ]
  },
  {
   "cell_type": "code",
   "execution_count": 1,
   "metadata": {},
   "outputs": [
    {
     "name": "stdout",
     "output_type": "stream",
     "text": [
      "[1 2 3 4 5]\n"
     ]
    }
   ],
   "source": [
    "import numpy as np\n",
    "\n",
    "my_list = [1, 2, 3, 4, 5]\n",
    "my_array = np.array(my_list)\n",
    "print(my_array)"
   ]
  },
  {
   "cell_type": "markdown",
   "metadata": {},
   "source": [
    "2. Array shape\n",
    "\n",
    "Use  **np.shape**, **np.reshape()**, or  **np.ndarray.shape** to view the array shape, and use to  **np.reshape()** change the array shape."
   ]
  },
  {
   "cell_type": "code",
   "execution_count": 4,
   "metadata": {},
   "outputs": [
    {
     "name": "stdout",
     "output_type": "stream",
     "text": [
      "Array shape: (2, 3)\n",
      "Reshaped array: (3, 2)\n"
     ]
    }
   ],
   "source": [
    "import numpy as np\n",
    "\n",
    "my_array = np.array([[1,2,3],\n",
    "                    [4,5,6]])\n",
    "print(f'Array shape: {my_array.shape}')\n",
    "\n",
    "reshaped_array = my_array.reshape(3,2)\n",
    "reshaped_array = np.reshape(my_array, (3,2))\n",
    "print(f'Reshaped array: {reshaped_array.shape}')"
   ]
  },
  {
   "cell_type": "markdown",
   "metadata": {},
   "source": [
    "3. Array dimensions\n",
    "\n",
    "Use  **np.ndim** or  **np.ndarray.ndim** to view array dimensions."
   ]
  },
  {
   "cell_type": "code",
   "execution_count": 5,
   "metadata": {},
   "outputs": [
    {
     "name": "stdout",
     "output_type": "stream",
     "text": [
      "Array dimensions: 2\n"
     ]
    }
   ],
   "source": [
    "import numpy as np\n",
    "\n",
    "my_array = np.array([[1,2,3],\n",
    "                    [4,5,6]])\n",
    "print(f'Array dimensions: {my_array.ndim}')"
   ]
  },
  {
   "cell_type": "markdown",
   "metadata": {},
   "source": [
    "4. Array size\n",
    "\n",
    "Use **np.size** or  **np.ndarray.size** to view the array size."
   ]
  },
  {
   "cell_type": "code",
   "execution_count": 6,
   "metadata": {},
   "outputs": [
    {
     "name": "stdout",
     "output_type": "stream",
     "text": [
      "Array size: 6\n"
     ]
    }
   ],
   "source": [
    "import numpy as np\n",
    "\n",
    "my_array = np.array([[1,2,3],\n",
    "                    [4,5,6]])\n",
    "print(f'Array size: {my_array.size}')"
   ]
  },
  {
   "cell_type": "markdown",
   "metadata": {},
   "source": [
    "5. Array data type\n",
    "\n",
    "Use  np.dtype or  np.ndarray.dtype view array data types."
   ]
  },
  {
   "cell_type": "code",
   "execution_count": 7,
   "metadata": {},
   "outputs": [
    {
     "name": "stdout",
     "output_type": "stream",
     "text": [
      "Array data type: int64\n"
     ]
    }
   ],
   "source": [
    "import numpy as np\n",
    "\n",
    "my_array = np.array([[1,2,3],\n",
    "                    [4,5,6]])\n",
    "print(f'Array data type: {my_array.dtype}')"
   ]
  },
  {
   "cell_type": "markdown",
   "metadata": {},
   "source": [
    "6.  Array type conversion\n",
    "\n",
    "Use  np.astype() or  np.ndarray.astype convert array data types."
   ]
  },
  {
   "cell_type": "code",
   "execution_count": 8,
   "metadata": {},
   "outputs": [
    {
     "name": "stdout",
     "output_type": "stream",
     "text": [
      "Array data type: int64\n",
      "Converted array data type: float64\n"
     ]
    }
   ],
   "source": [
    "import numpy as np\n",
    "\n",
    "my_array = np.array([[1,2,3],\n",
    "                    [4,5,6]])\n",
    "print(f'Array data type: {my_array.dtype}')\n",
    "\n",
    "converted_array = my_array.astype(float)\n",
    "print(f'Converted array data type: {converted_array.dtype}')"
   ]
  },
  {
   "cell_type": "code",
   "execution_count": null,
   "metadata": {},
   "outputs": [],
   "source": []
  }
 ],
 "metadata": {
  "kernelspec": {
   "display_name": "base",
   "language": "python",
   "name": "python3"
  },
  "language_info": {
   "codemirror_mode": {
    "name": "ipython",
    "version": 3
   },
   "file_extension": ".py",
   "mimetype": "text/x-python",
   "name": "python",
   "nbconvert_exporter": "python",
   "pygments_lexer": "ipython3",
   "version": "3.11.4"
  }
 },
 "nbformat": 4,
 "nbformat_minor": 2
}
