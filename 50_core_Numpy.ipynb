{
 "cells": [
  {
   "cell_type": "markdown",
   "metadata": {},
   "source": [
    "# Numpy\n",
    "\n",
    "- Multidimensional array : NumPy's main data structure is the multidimensional array (numpy.ndarray), which provides efficient storage and manipulation of multidimensional data. In machine learning, data is often represented as multidimensional arrays, so NumPy provides a convenient way to manipulate and process this data.\n",
    "\n",
    "- Mathematical functions : NumPy provides a wealth of mathematical functions, covering basic mathematical operations, linear algebra, Fourier transform, etc. These functions are essential for the implementation and optimization of machine learning algorithms.\n",
    "\n",
    "- Fast computing : NumPy's underlying implementation uses C language, so its computing speed is very fast. NumPy's efficient computing ability is very helpful when processing large-scale data.\n",
    "\n",
    "- Broadcasting : NumPy’s broadcasting functionality allows arithmetic operations to be performed on arrays of different sizes, making the code more concise, more readable, and reducing memory consumption.\n",
    "\n",
    "- Random number generation : NumPy provides powerful random number generation functions, including random number generators with multiple distributions. This is very useful in simulating data, initializing model parameters, etc.\n",
    "\n",
    "- Integration with other libraries : NumPy is tightly integrated with many other Python libraries (such as SciPy, Pandas, Matplotlib, etc.), making it easy to exchange data between them and jointly build complex data processing and visualization pipelines.\n",
    "\n",
    "- Linear algebra operations : NumPy provides a wealth of linear algebra operations, such as matrix multiplication, inversion, eigenvalue decomposition, etc. This is crucial for many machine learning algorithms, especially deep learning algorithms.\n",
    "\n",
    "- Memory Optimization : NumPy’s data structures are optimized to utilize memory more efficiently, which is crucial especially for large datasets and computationally intensive tasks."
   ]
  },
  {
   "cell_type": "markdown",
   "metadata": {},
   "source": [
    "1. Create an array\n",
    "\n",
    "**np.array()** Convert a Python list to a NumPy array "
   ]
  },
  {
   "cell_type": "code",
   "execution_count": 1,
   "metadata": {},
   "outputs": [
    {
     "name": "stdout",
     "output_type": "stream",
     "text": [
      "[1 2 3 4 5]\n"
     ]
    }
   ],
   "source": [
    "import numpy as np\n",
    "\n",
    "my_list = [1, 2, 3, 4, 5]\n",
    "my_array = np.array(my_list)\n",
    "print(my_array)"
   ]
  },
  {
   "cell_type": "markdown",
   "metadata": {},
   "source": [
    "2. Array shape\n",
    "\n",
    "Use  **np.shape**, **np.reshape()**, or  **np.ndarray.shape** to view the array shape, and use to  **np.reshape()** change the array shape."
   ]
  },
  {
   "cell_type": "code",
   "execution_count": 4,
   "metadata": {},
   "outputs": [
    {
     "name": "stdout",
     "output_type": "stream",
     "text": [
      "Array shape: (2, 3)\n",
      "Reshaped array: (3, 2)\n"
     ]
    }
   ],
   "source": [
    "import numpy as np\n",
    "\n",
    "my_array = np.array([[1,2,3],\n",
    "                    [4,5,6]])\n",
    "print(f'Array shape: {my_array.shape}')\n",
    "\n",
    "reshaped_array = my_array.reshape(3,2)\n",
    "reshaped_array = np.reshape(my_array, (3,2))\n",
    "print(f'Reshaped array: {reshaped_array.shape}')"
   ]
  },
  {
   "cell_type": "markdown",
   "metadata": {},
   "source": [
    "3. Array dimensions\n",
    "\n",
    "Use  **np.ndim** or  **np.ndarray.ndim** to view array dimensions."
   ]
  },
  {
   "cell_type": "code",
   "execution_count": 5,
   "metadata": {},
   "outputs": [
    {
     "name": "stdout",
     "output_type": "stream",
     "text": [
      "Array dimensions: 2\n"
     ]
    }
   ],
   "source": [
    "import numpy as np\n",
    "\n",
    "my_array = np.array([[1,2,3],\n",
    "                    [4,5,6]])\n",
    "print(f'Array dimensions: {my_array.ndim}')"
   ]
  },
  {
   "cell_type": "markdown",
   "metadata": {},
   "source": [
    "4. Array size\n",
    "\n",
    "Use **np.size** or  **np.ndarray.size** to view the array size."
   ]
  },
  {
   "cell_type": "code",
   "execution_count": 6,
   "metadata": {},
   "outputs": [
    {
     "name": "stdout",
     "output_type": "stream",
     "text": [
      "Array size: 6\n"
     ]
    }
   ],
   "source": [
    "import numpy as np\n",
    "\n",
    "my_array = np.array([[1,2,3],\n",
    "                    [4,5,6]])\n",
    "print(f'Array size: {my_array.size}')"
   ]
  },
  {
   "cell_type": "markdown",
   "metadata": {},
   "source": [
    "5. Array data type\n",
    "\n",
    "Use  np.dtype or  np.ndarray.dtype view array data types."
   ]
  },
  {
   "cell_type": "code",
   "execution_count": 7,
   "metadata": {},
   "outputs": [
    {
     "name": "stdout",
     "output_type": "stream",
     "text": [
      "Array data type: int64\n"
     ]
    }
   ],
   "source": [
    "import numpy as np\n",
    "\n",
    "my_array = np.array([[1,2,3],\n",
    "                    [4,5,6]])\n",
    "print(f'Array data type: {my_array.dtype}')"
   ]
  },
  {
   "cell_type": "markdown",
   "metadata": {},
   "source": [
    "6.  Array type conversion\n",
    "\n",
    "Use  np.astype() or  np.ndarray.astype convert array data types."
   ]
  },
  {
   "cell_type": "code",
   "execution_count": 8,
   "metadata": {},
   "outputs": [
    {
     "name": "stdout",
     "output_type": "stream",
     "text": [
      "Array data type: int64\n",
      "Converted array data type: float64\n"
     ]
    }
   ],
   "source": [
    "import numpy as np\n",
    "\n",
    "my_array = np.array([[1,2,3],\n",
    "                    [4,5,6]])\n",
    "print(f'Array data type: {my_array.dtype}')\n",
    "\n",
    "converted_array = my_array.astype(float)\n",
    "print(f'Converted array data type: {converted_array.dtype}')"
   ]
  },
  {
   "cell_type": "markdown",
   "metadata": {},
   "source": [
    "7. Array filling\n",
    "\n",
    "Use  np.zeros(), np.ones(), np.full() or  np.empty() to create an array of specific fill values."
   ]
  },
  {
   "cell_type": "code",
   "execution_count": 9,
   "metadata": {},
   "outputs": [
    {
     "name": "stdout",
     "output_type": "stream",
     "text": [
      "Zeros array: [[0. 0. 0. 0.]\n",
      " [0. 0. 0. 0.]\n",
      " [0. 0. 0. 0.]]\n",
      "Ones array: [[1. 1. 1. 1.]\n",
      " [1. 1. 1. 1.]\n",
      " [1. 1. 1. 1.]]\n",
      "Empty array: [[0. 0. 0.]\n",
      " [0. 0. 0.]]\n",
      "Full array: [[6 6 6]\n",
      " [6 6 6]\n",
      " [6 6 6]]\n"
     ]
    }
   ],
   "source": [
    "import numpy as np\n",
    "\n",
    "# create an array of zeros\n",
    "zeros_array = np.zeros((3,4))\n",
    "print(f'Zeros array: {zeros_array}')\n",
    "\n",
    "# create an array of ones\n",
    "ones_array = np.ones((3,4))\n",
    "print(f'Ones array: {ones_array}')\n",
    "\n",
    "# create an empty array\n",
    "empty_array = np.empty((2,3))\n",
    "print(f'Empty array: {empty_array}')\n",
    "\n",
    "# create an array of specific value\n",
    "full_array = np.full((3,3), 6)\n",
    "print(f'Full array: {full_array}')\n"
   ]
  },
  {
   "cell_type": "markdown",
   "metadata": {},
   "source": [
    "8. Array Range\n",
    "\n",
    "Uses  np.arange() or  np.linspace() creates an array of the specified range."
   ]
  },
  {
   "cell_type": "code",
   "execution_count": 13,
   "metadata": {},
   "outputs": [
    {
     "name": "stdout",
     "output_type": "stream",
     "text": [
      "Arange array: [0 2 4 6 8]\n",
      "Linspace array: [ 0.          1.11111111  2.22222222  3.33333333  4.44444444  5.55555556\n",
      "  6.66666667  7.77777778  8.88888889 10.        ]\n"
     ]
    }
   ],
   "source": [
    "import numpy as np\n",
    "\n",
    "# create an array within a range\n",
    "arange_array = np.arange(0, 10, 2)\n",
    "print(f'Arange array: {arange_array}')\n",
    "\n",
    "# create an array with evenly spaced values\n",
    "linspace_array = np.linspace(0, 10, 10)\n",
    "print(f'Linspace array: {linspace_array}')"
   ]
  },
  {
   "cell_type": "markdown",
   "metadata": {},
   "source": [
    "9. Random Array\n",
    "\n",
    " Create a random array using  np.random.rand(), np.random.randn(), np.random.randint() or  .np.random.random()"
   ]
  },
  {
   "cell_type": "code",
   "execution_count": 14,
   "metadata": {},
   "outputs": [
    {
     "name": "stdout",
     "output_type": "stream",
     "text": [
      "Random array: [[0.09325266 0.15125748 0.12734528]\n",
      " [0.98418047 0.8858867  0.89746941]\n",
      " [0.19367851 0.52484187 0.87756016]]\n",
      "Random array: [[-0.97364363  0.0070161  -0.741358  ]\n",
      " [-1.43870064 -0.21155593 -1.99129256]\n",
      " [-1.33327009  0.54545031  1.67329449]]\n",
      "Random array: [[3 4 4]\n",
      " [0 8 8]\n",
      " [1 5 5]]\n",
      "Random array: [[0.20584397 0.06704059 0.1540186 ]\n",
      " [0.93502006 0.2731176  0.38252106]\n",
      " [0.19129072 0.645807   0.05843883]]\n"
     ]
    }
   ],
   "source": [
    "import numpy as np\n",
    "\n",
    "# create an array that is uniformly distributed\n",
    "rand_array = np.random.rand(3,3)\n",
    "print(f'Random array: {rand_array}')\n",
    "\n",
    "# create an array that is normally distributed\n",
    "randn_array = np.random.randn(3,3)\n",
    "print(f'Random array: {randn_array}')\n",
    "\n",
    "# create an array of random integers in the specified range\n",
    "randint_array = np.random.randint(0, 10, size = (3,3))\n",
    "print(f'Random array: {randint_array}')\n",
    "\n",
    "# create an array of random values that are uniformlly distributed\n",
    "random_array = np.random.random((3,3))\n",
    "print(f'Random array: {random_array}')"
   ]
  },
  {
   "cell_type": "markdown",
   "metadata": {},
   "source": [
    "10. Array Indexing\n",
    "\n",
    "Use array indexing to get a specific element or row."
   ]
  },
  {
   "cell_type": "code",
   "execution_count": 16,
   "metadata": {},
   "outputs": [
    {
     "name": "stdout",
     "output_type": "stream",
     "text": [
      "Array: [[1 2 3]\n",
      " [4 5 6]\n",
      " [7 8 9]]\n",
      "Array shape: (3, 3)\n",
      "The first element: 1\n",
      "The last element: 9\n",
      "The first row: [1 2 3]\n",
      "The last row: [7 8 9]\n",
      "The first column: [1 4 7]\n",
      "The last column: [3 6 9]\n"
     ]
    }
   ],
   "source": [
    "import numpy as np\n",
    "\n",
    "# create an array\n",
    "my_array = np.array([[1,2,3],\n",
    "                    [4,5,6],\n",
    "                    [7,8,9]])\n",
    "print(f'Array: {my_array}')\n",
    "print(f'Array shape: {my_array.shape}')\n",
    "# access an element\n",
    "print(f'The first element: {my_array[0,0]}')\n",
    "print(f'The last element: {my_array[-1,-1]}')\n",
    "\n",
    "# access a row\n",
    "print(f'The first row: {my_array[0,:]}')\n",
    "print(f'The last row: {my_array[-1,:]}')\n",
    "\n",
    "# access a column\n",
    "print(f'The first column: {my_array[:,0]}')\n",
    "print(f'The last column: {my_array[:,-1]}')"
   ]
  },
  {
   "cell_type": "markdown",
   "metadata": {},
   "source": [
    "11. Array Slicing\n",
    "\n",
    "Use the slice operation to get a specific range of array elements.\n",
    "\n",
    "[row:row, column:column]"
   ]
  },
  {
   "cell_type": "code",
   "execution_count": 24,
   "metadata": {},
   "outputs": [
    {
     "name": "stdout",
     "output_type": "stream",
     "text": [
      "Sliced array: [[2 3]\n",
      " [5 6]]\n",
      "Slice array: [[5 6]\n",
      " [8 9]]\n"
     ]
    }
   ],
   "source": [
    "import numpy as np\n",
    "\n",
    "# create an array\n",
    "my_array = np.array([[1,2,3],\n",
    "                    [4,5,6],\n",
    "                    [7,8,9]])\n",
    "\n",
    "# slice the array\n",
    "sliced_array = my_array[:2, 1:]\n",
    "print(f'Sliced array: {sliced_array}')\n",
    "\n",
    "slice_array = my_array[1:, 1:3]\n",
    "print(f'Slice array: {slice_array}')"
   ]
  },
  {
   "cell_type": "markdown",
   "metadata": {},
   "source": [
    "12. Array shape changes\n",
    "\n",
    "Use  np.reshape(), np.ravel() , or  np.flatten() to reshape an array."
   ]
  },
  {
   "cell_type": "code",
   "execution_count": 29,
   "metadata": {},
   "outputs": [
    {
     "name": "stdout",
     "output_type": "stream",
     "text": [
      "Array: [[1 2 3]\n",
      " [4 5 6]\n",
      " [7 8 9]]\n",
      "Array shape: (3, 3)\n",
      "Reshaped array: [1 2 3 4 5 6 7 8 9]\n",
      "Reshaped array shape: (9,)\n",
      "Raveled array: [1 2 3 4 5 6 7 8 9]\n",
      "Raveled array shape: (9,)\n",
      "Flattened array: [1 2 3 4 5 6 7 8 9]\n",
      "Flattened array shape: (9,)\n"
     ]
    }
   ],
   "source": [
    "import numpy as np\n",
    "\n",
    "# create an array\n",
    "my_array = np.array([[1,2,3],\n",
    "                    [4,5,6],\n",
    "                    [7,8,9]])\n",
    "print(f'Array: {my_array}')\n",
    "print(f'Array shape: {my_array.shape}')\n",
    "\n",
    "# reshape the array\n",
    "reshaped_array = my_array.reshape(9)\n",
    "print(f'Reshaped array: {reshaped_array}')\n",
    "print(f'Reshaped array shape: {reshaped_array.shape}')\n",
    "\n",
    "reshaped_array = my_array.ravel()\n",
    "print(f'Raveled array: {reshaped_array}')\n",
    "print(f'Raveled array shape: {reshaped_array.shape}')\n",
    "\n",
    "reshaped_array = my_array.flatten()\n",
    "print(f'Flattened array: {reshaped_array}')\n",
    "print(f'Flattened array shape: {reshaped_array.shape}')"
   ]
  },
  {
   "cell_type": "markdown",
   "metadata": {},
   "source": [
    "13. Array Transpose\n",
    "\n",
    "Use  np.transpose() or  np.ndarray.T to transpose an array."
   ]
  },
  {
   "cell_type": "code",
   "execution_count": 34,
   "metadata": {},
   "outputs": [
    {
     "name": "stdout",
     "output_type": "stream",
     "text": [
      "Array shape: (4, 3)\n",
      "Transposed array: [[ 1  4  7 10]\n",
      " [ 2  5  8 11]\n",
      " [ 3  6  9 12]]\n",
      "Transposed array shape: (3, 4)\n"
     ]
    }
   ],
   "source": [
    "import numpy as np\n",
    "\n",
    "# create an array\n",
    "my_array = np.array([[1,2,3],\n",
    "                    [4,5,6],\n",
    "                    [7,8,9],\n",
    "                    [10,11,12]])\n",
    "print(f'Array shape: {my_array.shape}')\n",
    "\n",
    "# Transpose the array\n",
    "transposed_array = my_array.T\n",
    "print(f'Transposed array: {transposed_array}')\n",
    "print(f'Transposed array shape: {transposed_array.shape}')"
   ]
  },
  {
   "cell_type": "markdown",
   "metadata": {},
   "source": [
    "14. Array Concatenation\n",
    "\n",
    " Concatenate arrays using  np.concatenate(), np.vstack(), np.hstack() or  .np.column_stack()"
   ]
  },
  {
   "cell_type": "code",
   "execution_count": 36,
   "metadata": {},
   "outputs": [
    {
     "name": "stdout",
     "output_type": "stream",
     "text": [
      "Horizontally stacked array: [[ 1  2  3 10 11 12]\n",
      " [ 4  5  6 13 14 15]\n",
      " [ 7  8  9 16 17 18]]\n",
      "Horizontally stacked array shape: (3, 6)\n",
      "Vertically stacked array: [[ 1  2  3]\n",
      " [ 4  5  6]\n",
      " [ 7  8  9]\n",
      " [10 11 12]\n",
      " [13 14 15]\n",
      " [16 17 18]]\n",
      "Vertically stacked array shape: (6, 3)\n"
     ]
    }
   ],
   "source": [
    "import numpy as np\n",
    "\n",
    "# create an array\n",
    "array1 = np.array([[1,2,3],\n",
    "                    [4,5,6],\n",
    "                    [7,8,9]])\n",
    "array2 = np.array([[10,11,12],\n",
    "                    [13,14,15],\n",
    "                    [16,17,18]])\n",
    "\n",
    "# concatenate the arrays along the rows\n",
    "hstacked_array = np.hstack((array1, array2))\n",
    "print(f'Horizontally stacked array: {hstacked_array}')\n",
    "print(f'Horizontally stacked array shape: {hstacked_array.shape}')\n",
    "\n",
    "# concatenate the arrays along the columns\n",
    "vstacked_array = np.vstack((array1, array2))\n",
    "print(f'Vertically stacked array: {vstacked_array}')\n",
    "print(f'Vertically stacked array shape: {vstacked_array.shape}')"
   ]
  },
  {
   "cell_type": "markdown",
   "metadata": {},
   "source": [
    "15. Array Splitting\n",
    "\n",
    "Use  np.split(), np.vsplit(), np.hsplit() or  np.array_split() to split an array."
   ]
  },
  {
   "cell_type": "code",
   "execution_count": 40,
   "metadata": {},
   "outputs": [
    {
     "name": "stdout",
     "output_type": "stream",
     "text": [
      "Horizontally split array: [array([[1],\n",
      "       [4],\n",
      "       [7]]), array([[2],\n",
      "       [5],\n",
      "       [8]]), array([[3],\n",
      "       [6],\n",
      "       [9]])]\n",
      "array: [[1]\n",
      " [4]\n",
      " [7]]\n",
      "array: [[2]\n",
      " [5]\n",
      " [8]]\n",
      "array: [[3]\n",
      " [6]\n",
      " [9]]\n",
      "Vertically split array: [array([[1, 2, 3]]), array([[4, 5, 6]]), array([[7, 8, 9]])]\n",
      "[[1 2 3]]\n",
      "[[4 5 6]]\n",
      "[[7 8 9]]\n"
     ]
    }
   ],
   "source": [
    "import numpy as np\n",
    "\n",
    "# create an array\n",
    "my_array = np.array([[1,2,3],\n",
    "                    [4,5,6],\n",
    "                    [7,8,9]])\n",
    "\n",
    "# split the array horizontally\n",
    "hsplit_array = np.hsplit(my_array, 3)\n",
    "print(f'Horizontally split array: {hsplit_array}')\n",
    "for arr in hsplit_array:\n",
    "    print(f'array: {arr}')\n",
    "\n",
    "# split the array vertically\n",
    "vsplit_array = np.vsplit(my_array, 3)\n",
    "print(f'Vertically split array: {vsplit_array}')\n",
    "for arr in vsplit_array:\n",
    "    print(arr)"
   ]
  },
  {
   "cell_type": "markdown",
   "metadata": {},
   "source": [
    "16. Array Duplicates\n",
    "\n",
    "Use  np.repeat() or  np.tile() to perform repeated operations on an array."
   ]
  },
  {
   "cell_type": "code",
   "execution_count": 42,
   "metadata": {},
   "outputs": [
    {
     "name": "stdout",
     "output_type": "stream",
     "text": [
      "Repeated array: [1 1 1 2 2 2 3 3 3 4 4 4 5 5 5 6 6 6 7 7 7 8 8 8 9 9 9]\n",
      "Tiled array: [[1 2 3 1 2 3 1 2 3]\n",
      " [4 5 6 4 5 6 4 5 6]\n",
      " [7 8 9 7 8 9 7 8 9]]\n"
     ]
    }
   ],
   "source": [
    "import numpy as np\n",
    "\n",
    "# create an array\n",
    "my_array = np.array([[1,2,3],\n",
    "                    [4,5,6],\n",
    "                    [7,8,9]])\n",
    "\n",
    "# repeat the array (element-wise)\n",
    "repeated_array = np.repeat(my_array, 3)\n",
    "print(f'Repeated array: {repeated_array}')\n",
    "\n",
    "# tile the array\n",
    "tiled_array = np.tile(my_array, 3)\n",
    "print(f'Tiled array: {tiled_array}')\n"
   ]
  },
  {
   "cell_type": "markdown",
   "metadata": {},
   "source": [
    "17. Array Sorting\n",
    "\n",
    "Use  np.sort(), np.argsort(), np.lexsort(), , np.argmax() or  np.argmin() to sort and get the index of an array."
   ]
  },
  {
   "cell_type": "code",
   "execution_count": 49,
   "metadata": {},
   "outputs": [
    {
     "name": "stdout",
     "output_type": "stream",
     "text": [
      "Sorted array: [ 5  6  8 10 20]\n",
      "Sorted indices: [2 3 4 0 1]\n",
      "5\n",
      "6\n",
      "8\n",
      "10\n",
      "20\n"
     ]
    }
   ],
   "source": [
    "import numpy as np\n",
    "\n",
    "# create an array\n",
    "my_array = np.array([10,20,5,6,8])\n",
    "\n",
    "# sort the array\n",
    "sorted_array = np.sort(my_array)\n",
    "print(f'Sorted array: {sorted_array}')\n",
    "\n",
    "# get the indices of the sorted array\n",
    "sorted_indices = np.argsort(my_array)\n",
    "print(f'Sorted indices: {sorted_indices}')\n",
    "\n",
    "for sor in sorted_indices:\n",
    "    print(my_array[sor])"
   ]
  },
  {
   "cell_type": "markdown",
   "metadata": {},
   "source": [
    "18. Maximum and minimum values of an array\n",
    "\n",
    "Use  np.max(), np.min(), np.argmax() or  np.argmin() to get the maximum and minimum values ​​of an array and their indices."
   ]
  },
  {
   "cell_type": "code",
   "execution_count": 50,
   "metadata": {},
   "outputs": [
    {
     "name": "stdout",
     "output_type": "stream",
     "text": [
      "Max value: 9\n",
      "Min value: 1\n",
      "Max index: 8\n",
      "Min index: 0\n"
     ]
    }
   ],
   "source": [
    "import numpy as np\n",
    "\n",
    "# create an array\n",
    "my_array = np.array([[1,2,3],\n",
    "                    [4,5,6],\n",
    "                    [7,8,9]])\n",
    "\n",
    "# get the maximum value\n",
    "max_value = np.max(my_array)\n",
    "min_value = np.min(my_array)\n",
    "print(f'Max value: {max_value}')\n",
    "print(f'Min value: {min_value}')\n",
    "\n",
    "# get the maximum and minimum values of their respective indexes\n",
    "max_index = np.argmax(my_array)\n",
    "min_index = np.argmin(my_array)\n",
    "print(f'Max index: {max_index}')\n",
    "print(f'Min index: {min_index}')"
   ]
  },
  {
   "cell_type": "markdown",
   "metadata": {},
   "source": [
    "19. Array sum\n",
    "\n",
    "Use  np.sum() or  np.cumsum() to sum or perform a cumulative sum calculation on the elements of an array."
   ]
  },
  {
   "cell_type": "code",
   "execution_count": 51,
   "metadata": {},
   "outputs": [
    {
     "name": "stdout",
     "output_type": "stream",
     "text": [
      "Sum of the array: 45\n",
      "Cumulative sum of the array: [ 1  3  6 10 15 21 28 36 45]\n"
     ]
    }
   ],
   "source": [
    "import numpy as np\n",
    "\n",
    "# create an array\n",
    "my_array = np.array([[1,2,3],\n",
    "                    [4,5,6],\n",
    "                    [7,8,9]])\n",
    "\n",
    "# get the sum of the array\n",
    "sum_array = np.sum(my_array)\n",
    "print(f'Sum of the array: {sum_array}')\n",
    "\n",
    "# get the cumulative sum of the array\n",
    "cumsum_array = np.cumsum(my_array)\n",
    "print(f'Cumulative sum of the array: {cumsum_array}')"
   ]
  },
  {
   "cell_type": "markdown",
   "metadata": {},
   "source": [
    "20. Array Average\n",
    "\n",
    " Compute the average of the elements of an array using  np.mean() or  .np.average()"
   ]
  },
  {
   "cell_type": "code",
   "execution_count": 52,
   "metadata": {},
   "outputs": [
    {
     "name": "stdout",
     "output_type": "stream",
     "text": [
      "Mean of the array: 5.0\n"
     ]
    }
   ],
   "source": [
    "import numpy as np\n",
    "\n",
    "# create an array\n",
    "my_array = np.array([[1,2,3],\n",
    "                    [4,5,6],\n",
    "                    [7,8,9]])\n",
    "\n",
    "# get the mean of the array\n",
    "mean_value = np.mean(my_array)\n",
    "print(f'Mean of the array: {mean_value}')"
   ]
  },
  {
   "cell_type": "markdown",
   "metadata": {},
   "source": [
    "21. Median of an array\n",
    "\n",
    "Use to  np.median() calculate the median of array elements."
   ]
  },
  {
   "cell_type": "code",
   "execution_count": 53,
   "metadata": {},
   "outputs": [
    {
     "name": "stdout",
     "output_type": "stream",
     "text": [
      "Median of the array: 5.0\n"
     ]
    }
   ],
   "source": [
    "import numpy as np\n",
    "\n",
    "# create an array\n",
    "my_array = np.array([[1,2,3],\n",
    "                    [4,5,6],\n",
    "                    [7,8,9]])\n",
    "\n",
    "# get the median of the array\n",
    "median_value = np.median(my_array)\n",
    "print(f'Median of the array: {median_value}')"
   ]
  },
  {
   "cell_type": "markdown",
   "metadata": {},
   "source": [
    "22. Array Standard Deviation\n",
    "\n",
    "Compute the standard deviation of the array elements using  np.std() ."
   ]
  },
  {
   "cell_type": "code",
   "execution_count": 54,
   "metadata": {},
   "outputs": [
    {
     "name": "stdout",
     "output_type": "stream",
     "text": [
      "Standard deviation of the array: 2.581988897471611\n"
     ]
    }
   ],
   "source": [
    "import numpy as np\n",
    "\n",
    "# create an array\n",
    "my_array = np.array([[1,2,3],\n",
    "                    [4,5,6],\n",
    "                    [7,8,9]])\n",
    "\n",
    "# get the standard deviation of the array\n",
    "std_value = np.std(my_array)\n",
    "print(f'Standard deviation of the array: {std_value}')"
   ]
  },
  {
   "cell_type": "markdown",
   "metadata": {},
   "source": [
    "23. Array Variance\n",
    "\n",
    "np.var() Computes the variance of array elements"
   ]
  },
  {
   "cell_type": "code",
   "execution_count": 55,
   "metadata": {},
   "outputs": [
    {
     "name": "stdout",
     "output_type": "stream",
     "text": [
      "Variance of the array: 6.666666666666667\n"
     ]
    }
   ],
   "source": [
    "import numpy as np\n",
    "\n",
    "# create an array\n",
    "my_array = np.array([[1,2,3],\n",
    "                    [4,5,6],\n",
    "                    [7,8,9]])\n",
    "\n",
    "# get the variance of the array\n",
    "variance_value = np.var(my_array)\n",
    "print(f'Variance of the array: {variance_value}')"
   ]
  },
  {
   "cell_type": "markdown",
   "metadata": {},
   "source": [
    "24. Array row and column sum\n",
    "\n",
    "Use to  np.sum(axis=0/1) calculate the row and column sums of an array.\n",
    "\n",
    "axis = 1 means row\n",
    "\n",
    "axis = 0 means column"
   ]
  },
  {
   "cell_type": "code",
   "execution_count": 59,
   "metadata": {},
   "outputs": [
    {
     "name": "stdout",
     "output_type": "stream",
     "text": [
      "Sum of the array along the rows: [ 6 15 24]\n",
      "Sum of the array along the columns: [12 15 18]\n"
     ]
    }
   ],
   "source": [
    "import numpy as np\n",
    "\n",
    "# create an array\n",
    "my_array = np.array([[1,2,3],\n",
    "                    [4,5,6],\n",
    "                    [7,8,9]])\n",
    "\n",
    "# calculate the the sum of the array along the rows\n",
    "row_sum = np.sum(my_array, axis = 1)\n",
    "print(f'Sum of the array along the rows: {row_sum}')\n",
    "\n",
    "# calculate the the sum of the array along the columns\n",
    "column_sum = np.sum(my_array, axis = 0)\n",
    "print(f'Sum of the array along the columns: {column_sum}')"
   ]
  },
  {
   "cell_type": "markdown",
   "metadata": {},
   "source": [
    "25. Array-specified axis calculation\n",
    "\n",
    "Use  np.apply_along_axis() to apply a custom function to a specified axis of an array."
   ]
  },
  {
   "cell_type": "code",
   "execution_count": 62,
   "metadata": {},
   "outputs": [
    {
     "name": "stdout",
     "output_type": "stream",
     "text": [
      "New array: [[ 2  4  6]\n",
      " [ 8 10 12]\n",
      " [14 16 18]]\n"
     ]
    }
   ],
   "source": [
    "import numpy as np\n",
    "\n",
    "# create an array\n",
    "my_array = np.array([[1,2,3],\n",
    "                    [4,5,6],\n",
    "                    [7,8,9]])\n",
    "\n",
    "# slef defined function\n",
    "def custom_function(x):\n",
    "    return x * 2\n",
    "\n",
    "# apply the function to the array\n",
    "new_array = np.apply_along_axis(custom_function, 0, my_array)\n",
    "print(f'New array: {new_array}')"
   ]
  },
  {
   "cell_type": "markdown",
   "metadata": {},
   "source": [
    "26. Addition, substraction, multiplication and division of array elements\n",
    "\n",
    "Use  np.add(), np.subtract(), , np.multiply(), np.divide() or  np.power() to add, subtract, multiply, and divide array elements."
   ]
  },
  {
   "cell_type": "code",
   "execution_count": 64,
   "metadata": {},
   "outputs": [
    {
     "name": "stdout",
     "output_type": "stream",
     "text": [
      "Sum array: [[11 13 15]\n",
      " [17 19 21]\n",
      " [23 25 27]]\n",
      "Difference array: [[-9 -9 -9]\n",
      " [-9 -9 -9]\n",
      " [-9 -9 -9]]\n",
      "Product array: [[ 10  22  36]\n",
      " [ 52  70  90]\n",
      " [112 136 162]]\n",
      "Quotient array: [[0.1        0.18181818 0.25      ]\n",
      " [0.30769231 0.35714286 0.4       ]\n",
      " [0.4375     0.47058824 0.5       ]]\n",
      "Power array: [[ 1  4  9]\n",
      " [16 25 36]\n",
      " [49 64 81]]\n"
     ]
    }
   ],
   "source": [
    "import numpy as np\n",
    "\n",
    "# create an array\n",
    "array1 = np.array([[1,2,3],\n",
    "                    [4,5,6],\n",
    "                    [7,8,9]])\n",
    "array2 = np.array([[10,11,12],\n",
    "                    [13,14,15],\n",
    "                    [16,17,18]])\n",
    "\n",
    "# add the arrays\n",
    "sum_array = np.add(array1, array2)\n",
    "print(f'Sum array: {sum_array}')\n",
    "\n",
    "# subtract the arrays\n",
    "diff_array = np.subtract(array1, array2)\n",
    "print(f'Difference array: {diff_array}')\n",
    "\n",
    "# multiply the arrays\n",
    "prod_array = np.multiply(array1, array2)\n",
    "print(f'Product array: {prod_array}')\n",
    "\n",
    "# divide the arrays\n",
    "quot_array = np.divide(array1, array2)\n",
    "print(f'Quotient array: {quot_array}')\n",
    "\n",
    "# power the arrays\n",
    "pow_array = np.power(array1, 2)\n",
    "print(f'Power array: {pow_array}')"
   ]
  },
  {
   "cell_type": "markdown",
   "metadata": {},
   "source": [
    "27. Modulus of array elements\n",
    "\n",
    "Use  np.mod() or  np.remainder() to perform the modulus operation on the elements of an array."
   ]
  },
  {
   "cell_type": "code",
   "execution_count": 65,
   "metadata": {},
   "outputs": [
    {
     "name": "stdout",
     "output_type": "stream",
     "text": [
      "Modulus array: [[1 0 1]\n",
      " [0 1 0]\n",
      " [1 0 1]]\n"
     ]
    }
   ],
   "source": [
    "import numpy as np\n",
    "\n",
    "# create an array\n",
    "array1 = np.array([[1,2,3],\n",
    "                    [4,5,6],\n",
    "                    [7,8,9]])\n",
    "\n",
    "# modulus the array\n",
    "mod_array = np.mod(array1, 2)\n",
    "print(f'Modulus array: {mod_array}')"
   ]
  },
  {
   "cell_type": "markdown",
   "metadata": {},
   "source": [
    "28. Absolute value of array elements\n",
    "\n",
    "Use to  np.abs() calculate the absolute value of array elements."
   ]
  },
  {
   "cell_type": "code",
   "execution_count": 66,
   "metadata": {},
   "outputs": [
    {
     "name": "stdout",
     "output_type": "stream",
     "text": [
      "Absolute array: [1 2 3 5]\n"
     ]
    }
   ],
   "source": [
    "import numpy as np\n",
    "\n",
    "# create an array\n",
    "array1 = np.array([-1,-2,-3,-5])\n",
    "\n",
    "# absolute the array\n",
    "abs_array = np.abs(array1)\n",
    "print(f'Absolute array: {abs_array}')"
   ]
  },
  {
   "cell_type": "markdown",
   "metadata": {},
   "source": [
    "29. Rounding array elements\n",
    "\n",
    "Use  np.round(), np.floor(), , np.ceil() or  np.trunc() to round array elements."
   ]
  },
  {
   "cell_type": "code",
   "execution_count": 68,
   "metadata": {},
   "outputs": [
    {
     "name": "stdout",
     "output_type": "stream",
     "text": [
      "Round array: [1. 2. 4. 5.]\n",
      "Floor array: [1. 2. 3. 4.]\n",
      "Ceil array: [2. 3. 4. 5.]\n",
      "Trunc array: [1. 2. 3. 4.]\n"
     ]
    }
   ],
   "source": [
    "import numpy as np\n",
    "\n",
    "# create an array\n",
    "array1 = np.array([1.22,2.5,3.6,4.9])\n",
    "\n",
    "# round the array\n",
    "round_array = np.round(array1)\n",
    "print(f'Round array: {round_array}')\n",
    "\n",
    "# floor the array\n",
    "floor_array = np.floor(array1)\n",
    "print(f'Floor array: {floor_array}')\n",
    "\n",
    "# ceil the array\n",
    "ceil_array = np.ceil(array1)\n",
    "print(f'Ceil array: {ceil_array}')\n",
    "\n",
    "# trunc the array\n",
    "trunc_array = np.trunc(array1)\n",
    "print(f'Trunc array: {trunc_array}')"
   ]
  },
  {
   "cell_type": "markdown",
   "metadata": {},
   "source": [
    "30. Array element comparison\n",
    "\n",
    "Use  np.equal(), np.not_equal(), np.greater(), np.less(), , np.greater_equal() or  np.less_equal() to perform element-wise comparison operations."
   ]
  },
  {
   "cell_type": "code",
   "execution_count": 71,
   "metadata": {},
   "outputs": [
    {
     "name": "stdout",
     "output_type": "stream",
     "text": [
      "Equal array: [False False False]\n",
      "Not equal array: [ True  True  True]\n",
      "Greater array: [False False False]\n",
      "Less array: [ True  True  True]\n",
      "Greater or equal array: [False False False]\n",
      "Less or equal array: [ True  True  True]\n"
     ]
    }
   ],
   "source": [
    "import numpy as np\n",
    "\n",
    "# create an array\n",
    "array1 = np.array([1,2,3])\n",
    "array2 = np.array([4,5,6])\n",
    "\n",
    "# compare the arrays\n",
    "compare_array = np.equal(array1, array2)\n",
    "print(f'Equal array: {compare_array}')\n",
    "\n",
    "# not equal the arrays\n",
    "compare_array = np.not_equal(array1, array2)\n",
    "print(f'Not equal array: {compare_array}')\n",
    "\n",
    "# greater the arrays\n",
    "compare_array = np.greater(array1, array2)\n",
    "print(f'Greater array: {compare_array}')\n",
    "\n",
    "# less the arrays\n",
    "compare_array = np.less(array1, array2)\n",
    "print(f'Less array: {compare_array}')\n",
    "\n",
    "# greater or equal the arrays\n",
    "compare_array = np.greater_equal(array1, array2)\n",
    "print(f'Greater or equal array: {compare_array}')\n",
    "\n",
    "# less or equal the arrays\n",
    "compare_array = np.less_equal(array1, array2)\n",
    "print(f'Less or equal array: {compare_array}')"
   ]
  },
  {
   "cell_type": "markdown",
   "metadata": {},
   "source": [
    "31. Array logical operations\n",
    "\n",
    "Use  np.logical_and(), np.logical_or(), np.logical_xor() or  np.logical_not() to perform logical operations."
   ]
  },
  {
   "cell_type": "code",
   "execution_count": 74,
   "metadata": {},
   "outputs": [
    {
     "name": "stdout",
     "output_type": "stream",
     "text": [
      "Logical and array: [False False False]\n",
      "Logical or array: [ True  True  True]\n",
      "Logical not array: [False  True False]\n",
      "Logical xor array: [ True  True  True]\n"
     ]
    }
   ],
   "source": [
    "import numpy as np\n",
    "\n",
    "# create an array\n",
    "array1 = np.array([True,False,True])\n",
    "array2 = np.array([False,True,False])\n",
    "\n",
    "# logical and the arrays\n",
    "logical_and_array = np.logical_and(array1, array2)\n",
    "print(f'Logical and array: {logical_and_array}')\n",
    "\n",
    "# logical or the arrays\n",
    "logical_or_array = np.logical_or(array1, array2)\n",
    "print(f'Logical or array: {logical_or_array}')\n",
    "\n",
    "# logical not the arrays\n",
    "logical_not_array = np.logical_not(array1)\n",
    "print(f'Logical not array: {logical_not_array}')\n",
    "\n",
    "# logical xor the arrays\n",
    "logical_xor_array = np.logical_xor(array1, array2)\n",
    "print(f'Logical xor array: {logical_xor_array}')"
   ]
  },
  {
   "cell_type": "markdown",
   "metadata": {},
   "source": [
    "32. Cumulative sum of array elements\n",
    "\n",
    "Use  np.cumsum() or  np.cumprod() to sum or accumulate the elements of an array."
   ]
  },
  {
   "cell_type": "code",
   "execution_count": 75,
   "metadata": {},
   "outputs": [
    {
     "name": "stdout",
     "output_type": "stream",
     "text": [
      "Cumulative sum array: [1 3 6]\n",
      "Cumulative product array: [1 2 6]\n"
     ]
    }
   ],
   "source": [
    "import numpy as np\n",
    "\n",
    "# create an array\n",
    "array1 = np.array([1,2,3])\n",
    "\n",
    "# cumulative sum the array\n",
    "cumsum_array = np.cumsum(array1)\n",
    "print(f'Cumulative sum array: {cumsum_array}')\n",
    "\n",
    "# cumulative product the array\n",
    "cumprod_array = np.cumprod(array1)\n",
    "print(f'Cumulative product array: {cumprod_array}')"
   ]
  },
  {
   "cell_type": "markdown",
   "metadata": {},
   "source": [
    "33. Array exponentiation\n",
    "\n",
    "np.power() Raises an array to a power."
   ]
  },
  {
   "cell_type": "code",
   "execution_count": 76,
   "metadata": {},
   "outputs": [
    {
     "name": "stdout",
     "output_type": "stream",
     "text": [
      "Power array: [1 4 9]\n"
     ]
    }
   ],
   "source": [
    "import numpy as np\n",
    "\n",
    "# create an array\n",
    "array1 = np.array([1,2,3])\n",
    "\n",
    "# power the array\n",
    "power_array = np.power(array1, 2)\n",
    "print(f'Power array: {power_array}')"
   ]
  },
  {
   "cell_type": "markdown",
   "metadata": {},
   "source": [
    "34. Array Inverse Operation\n",
    "\n",
    "Use to  np.reciprocal() perform an inverse operation on an array."
   ]
  },
  {
   "cell_type": "code",
   "execution_count": 81,
   "metadata": {},
   "outputs": [
    {
     "name": "stdout",
     "output_type": "stream",
     "text": [
      "Reciprocal array: [1.         0.25       0.11111111 0.0625     4.        ]\n"
     ]
    }
   ],
   "source": [
    "import numpy as np\n",
    "\n",
    "# create an array\n",
    "array1 = np.array([1,4,9,16,0.25])\n",
    "\n",
    "# reciprocal the array\n",
    "reciprocal_array = np.reciprocal(array1) # 1/x\n",
    "print(f'Reciprocal array: {reciprocal_array}')"
   ]
  },
  {
   "cell_type": "markdown",
   "metadata": {},
   "source": [
    "35. Array logarithm operations\n",
    "\n",
    "Use  np.log(), np.log10() , or  np.log2() to perform logarithmic operations on an array."
   ]
  },
  {
   "cell_type": "code",
   "execution_count": 82,
   "metadata": {},
   "outputs": [
    {
     "name": "stdout",
     "output_type": "stream",
     "text": [
      "Log array: [0.         4.60517019 6.90775528]\n",
      "Log10 array: [0. 2. 3.]\n",
      "Log2 array: [0.         6.64385619 9.96578428]\n"
     ]
    }
   ],
   "source": [
    "import numpy as np\n",
    "\n",
    "# create an array\n",
    "array1 = np.array([1,100,1000])\n",
    "\n",
    "# log the array\n",
    "log_array = np.log(array1)\n",
    "print(f'Log array: {log_array}')\n",
    "\n",
    "# log10 the array\n",
    "log10_array = np.log10(array1)\n",
    "print(f'Log10 array: {log10_array}')\n",
    "\n",
    "# log2 the array\n",
    "log2_array = np.log2(array1)\n",
    "print(f'Log2 array: {log2_array}')"
   ]
  },
  {
   "cell_type": "markdown",
   "metadata": {},
   "source": [
    "36. Array trigonometric functions\n",
    "\n",
    "Use  np.sin(), np.cos(), np.tan(), np.arcsin(), np.arccos(), np.arctan() to perform trigonometric operations on arrays."
   ]
  },
  {
   "cell_type": "code",
   "execution_count": 88,
   "metadata": {},
   "outputs": [
    {
     "name": "stdout",
     "output_type": "stream",
     "text": [
      "Sin array: [ 0.         -0.98803162  0.85090352 -0.30481062  0.89399666]\n",
      "Cos array: [ 1.          0.15425145  0.52532199 -0.95241298 -0.44807362]\n",
      "Tan array: [ 0.         -6.4053312   1.61977519  0.32004039 -1.99520041]\n"
     ]
    }
   ],
   "source": [
    "import numpy as np\n",
    "\n",
    "# create an array\n",
    "my_array = np.array([0,30,45,60,90])\n",
    "\n",
    "# sin the array\n",
    "sin_array = np.sin(my_array)\n",
    "print(f'Sin array: {sin_array}')\n",
    "\n",
    "# cos the array\n",
    "print(f'Cos array: {np.cos(my_array)}')\n",
    "\n",
    "# tan the array\n",
    "print(f'Tan array: {np.tan(my_array)}')\n",
    "\n"
   ]
  },
  {
   "cell_type": "markdown",
   "metadata": {},
   "source": [
    "37. Array Exponential function\n",
    "\n",
    "Use  np.exp() or  np.exp2() to apply the exponential function to an array."
   ]
  },
  {
   "cell_type": "code",
   "execution_count": 84,
   "metadata": {},
   "outputs": [
    {
     "name": "stdout",
     "output_type": "stream",
     "text": [
      "Exp array: [1.00000000e+00 2.71828183e+00 7.38905610e+00 2.00855369e+01\n",
      " 5.45981500e+01 1.48413159e+02 4.03428793e+02 1.09663316e+03\n",
      " 2.98095799e+03 8.10308393e+03]\n",
      "Exp2 array: [  1.   2.   4.   8.  16.  32.  64. 128. 256. 512.]\n"
     ]
    }
   ],
   "source": [
    "import numpy as np\n",
    "\n",
    "# create an array\n",
    "my_array = np.array([0,1,2,3,4,5,6,7,8,9])\n",
    "\n",
    "# exp the array\n",
    "exp_array = np.exp(my_array)\n",
    "print(f'Exp array: {exp_array}')\n",
    "\n",
    "# exp2 the array\n",
    "exp2_array = np.exp2(my_array)\n",
    "print(f'Exp2 array: {exp2_array}')"
   ]
  },
  {
   "cell_type": "markdown",
   "metadata": {},
   "source": [
    "38. Array Hyperbolic functions\n",
    "\n",
    "Use  np.sinh(), np.cosh(), np.tanh(), np.arcsinh(), np.arccosh(), np.arctanh() to perform hyperbolic function operations on arrays."
   ]
  },
  {
   "cell_type": "code",
   "execution_count": 89,
   "metadata": {},
   "outputs": [
    {
     "name": "stdout",
     "output_type": "stream",
     "text": [
      "Sinh array: [0.00000000e+00 1.17520119e+00 3.62686041e+00 1.00178749e+01\n",
      " 2.72899172e+01 7.42032106e+01 2.01713157e+02 5.48316123e+02\n",
      " 1.49047883e+03 4.05154190e+03]\n",
      "Cosh array: [1.00000000e+00 1.54308063e+00 3.76219569e+00 1.00676620e+01\n",
      " 2.73082328e+01 7.42099485e+01 2.01715636e+02 5.48317035e+02\n",
      " 1.49047916e+03 4.05154203e+03]\n",
      "Tanh array: [0.         0.76159416 0.96402758 0.99505475 0.9993293  0.9999092\n",
      " 0.99998771 0.99999834 0.99999977 0.99999997]\n"
     ]
    }
   ],
   "source": [
    "import numpy as np\n",
    "\n",
    "# create an array\n",
    "my_array = np.array([0,1,2,3,4,5,6,7,8,9])\n",
    "\n",
    "# sinh the array\n",
    "sinh_array = np.sinh(my_array)\n",
    "print(f'Sinh array: {sinh_array}')\n",
    "\n",
    "# cosh the array\n",
    "cosh_array = np.cosh(my_array)\n",
    "print(f'Cosh array: {cosh_array}')\n",
    "\n",
    "# tanh the array\n",
    "tanh_array = np.tanh(my_array)\n",
    "print(f'Tanh array: {tanh_array}')\n",
    "\n"
   ]
  },
  {
   "cell_type": "markdown",
   "metadata": {},
   "source": [
    "39. Array Linear algebra functions\n",
    "\n",
    " Perform linear algebra operations on arrays using  np.dot(), np.linalg.inv(), , np.linalg.det(), np.linalg.eigvals().np.linalg.solve()"
   ]
  },
  {
   "cell_type": "code",
   "execution_count": 91,
   "metadata": {},
   "outputs": [
    {
     "name": "stdout",
     "output_type": "stream",
     "text": [
      "Dot array: [[ 84  90  96]\n",
      " [201 216 231]\n",
      " [318 342 366]]\n",
      "Linalg array: [[ 3.15251974e+15 -6.30503948e+15  3.15251974e+15]\n",
      " [-6.30503948e+15  1.26100790e+16 -6.30503948e+15]\n",
      " [ 3.15251974e+15 -6.30503948e+15  3.15251974e+15]]\n",
      "Det array: -9.51619735392994e-16\n",
      "Eig array: EigResult(eigenvalues=array([ 1.61168440e+01, -1.11684397e+00, -8.58274334e-16]), eigenvectors=array([[-0.23197069, -0.78583024,  0.40824829],\n",
      "       [-0.52532209, -0.08675134, -0.81649658],\n",
      "       [-0.8186735 ,  0.61232756,  0.40824829]]))\n",
      "Equation array: [1. 2.]\n"
     ]
    }
   ],
   "source": [
    "import numpy as np\n",
    "\n",
    "# create an array\n",
    "array1 = np.array([[1,2,3],\n",
    "                    [4,5,6],\n",
    "                    [7,8,9]])\n",
    "array2 = np.array([[10,11,12],\n",
    "                    [13,14,15],\n",
    "                    [16,17,18]])\n",
    "\n",
    "# dot the arrays\n",
    "dot_array = np.dot(array1, array2)\n",
    "print(f'Dot array: {dot_array}')\n",
    "\n",
    "# linalg the arrays\n",
    "# Computes the inverse of a square matrix.\n",
    "linalg_array = np.linalg.inv(array1)\n",
    "print(f'Linalg array: {linalg_array}')\n",
    "\n",
    "# det the arrays\n",
    "# Computes the determinant of a square matrix.\n",
    "det_array = np.linalg.det(array1)\n",
    "print(f'Det array: {det_array}')\n",
    "\n",
    "# eig the arrays\n",
    "# Computes the eigenvalues of a square matrix.\n",
    "eig_array = np.linalg.eig(array1)\n",
    "print(f'Eig array: {eig_array}')\n",
    "\n",
    "# equations\n",
    "a = np.array([[2,3],[3,1]])\n",
    "b = np.array([8,5])\n",
    "x = np.linalg.solve(a,b)\n",
    "print(f'Equation array: {x}')"
   ]
  },
  {
   "cell_type": "markdown",
   "metadata": {},
   "source": [
    "40. Array Angle conversion\n",
    "\n",
    "Use  np.degrees() or  np.radians() to convert degrees to radians."
   ]
  },
  {
   "cell_type": "code",
   "execution_count": 92,
   "metadata": {},
   "outputs": [
    {
     "name": "stdout",
     "output_type": "stream",
     "text": [
      "Degrees array: [  0.  90. 180. 270. 360.]\n",
      "Radians array: [0.         1.57079633 3.14159265 4.71238898 6.28318531]\n"
     ]
    }
   ],
   "source": [
    "import numpy as np\n",
    "\n",
    "# create an array\n",
    "radians_array = np.array([0, np.pi/2, np.pi, 3*np.pi/2, 2*np.pi])\n",
    "\n",
    "# convert the array to degrees\n",
    "degrees_array = np.degrees(radians_array)\n",
    "print(f'Degrees array: {degrees_array}')\n",
    "\n",
    "# convert the array to radians\n",
    "radians_array = np.radians(degrees_array)\n",
    "print(f'Radians array: {radians_array}')"
   ]
  },
  {
   "cell_type": "markdown",
   "metadata": {},
   "source": [
    "41. Array deduplication\n",
    "\n",
    "Use  np.unique() to deduplicate the array.\n"
   ]
  },
  {
   "cell_type": "code",
   "execution_count": 93,
   "metadata": {},
   "outputs": [
    {
     "name": "stdout",
     "output_type": "stream",
     "text": [
      "Unique array: [1 2 3]\n"
     ]
    }
   ],
   "source": [
    "import numpy as np\n",
    "\n",
    "# create an array\n",
    "my_array = np.array([1,2,2,3,3])\n",
    "\n",
    "# unique the array\n",
    "unique_array = np.unique(my_array)\n",
    "print(f'Unique array: {unique_array}')\n"
   ]
  },
  {
   "cell_type": "markdown",
   "metadata": {},
   "source": [
    "44. Array copy \n",
    "\n",
    "Use  np.copy() or  np.ndarray.copy() copy the array."
   ]
  },
  {
   "cell_type": "code",
   "execution_count": 94,
   "metadata": {},
   "outputs": [
    {
     "name": "stdout",
     "output_type": "stream",
     "text": [
      "Copied array: [1 2 3 4 5]\n",
      "Copied array: [1 2 3 4 5]\n"
     ]
    }
   ],
   "source": [
    "import numpy as np\n",
    "\n",
    "# create an array\n",
    "my_array = np.array([1,2,3,4,5])\n",
    "\n",
    "# copy the array\n",
    "copied_array = np.copy(my_array)\n",
    "print(f'Copied array: {copied_array}')\n",
    "\n",
    "# another way to copy the array\n",
    "copied_array = my_array.copy()\n",
    "print(f'Copied array: {copied_array}')"
   ]
  },
  {
   "cell_type": "markdown",
   "metadata": {},
   "source": [
    "45. Array Insertion\n",
    "\n",
    "Use  np.insert() or  np.append() to insert into an array."
   ]
  },
  {
   "cell_type": "code",
   "execution_count": 95,
   "metadata": {},
   "outputs": [
    {
     "name": "stdout",
     "output_type": "stream",
     "text": [
      "Inserted array: [ 1  2 10 11  3  4  5]\n",
      "Inserted array: [ 1  2  3  4  5 10 11]\n"
     ]
    }
   ],
   "source": [
    "import numpy as np\n",
    "\n",
    "# create an array\n",
    "my_array = np.array([1,2,3,4,5])\n",
    "\n",
    "# insert a value at a specific index\n",
    "inserted_array = np.insert(my_array, 2, [10,11])\n",
    "print(f'Inserted array: {inserted_array}')\n",
    "\n",
    "# insert the values at the end of the array\n",
    "inserted_array = np.append(my_array, [10,11])\n",
    "print(f'Inserted array: {inserted_array}')"
   ]
  },
  {
   "cell_type": "markdown",
   "metadata": {},
   "source": [
    "47. Array Deletion\n",
    "\n",
    "Use  np.delete() to delete arrays."
   ]
  },
  {
   "cell_type": "code",
   "execution_count": 96,
   "metadata": {},
   "outputs": [
    {
     "name": "stdout",
     "output_type": "stream",
     "text": [
      "Deleted array: [1 2 4 5]\n"
     ]
    }
   ],
   "source": [
    "import numpy as np\n",
    "\n",
    "# create an array\n",
    "my_array = np.array([1,2,3,4,5])\n",
    "\n",
    "# delete a value at a specific index\n",
    "deleted_array = np.delete(my_array, 2)\n",
    "print(f'Deleted array: {deleted_array}')"
   ]
  },
  {
   "cell_type": "code",
   "execution_count": null,
   "metadata": {},
   "outputs": [],
   "source": []
  }
 ],
 "metadata": {
  "kernelspec": {
   "display_name": "base",
   "language": "python",
   "name": "python3"
  },
  "language_info": {
   "codemirror_mode": {
    "name": "ipython",
    "version": 3
   },
   "file_extension": ".py",
   "mimetype": "text/x-python",
   "name": "python",
   "nbconvert_exporter": "python",
   "pygments_lexer": "ipython3",
   "version": "3.11.4"
  }
 },
 "nbformat": 4,
 "nbformat_minor": 2
}
